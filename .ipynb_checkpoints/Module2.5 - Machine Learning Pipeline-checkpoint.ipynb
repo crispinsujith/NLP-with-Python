{
 "cells": [
  {
   "cell_type": "markdown",
   "metadata": {},
   "source": [
    "## Machine Learning Pipeline\n",
    "While working with NLP"
   ]
  },
  {
   "cell_type": "markdown",
   "metadata": {},
   "source": [
    "1. Raw text - gather data\n",
    "---\n",
    "2. Tokenize - Tell the model what to look at\n",
    "---\n",
    "3. Cleaning text - Remove stopwords, punctuation, stemming(learnt,learned, learning are same), etc \n",
    "---\n",
    "4. Vectorizing - Convert text to numbers\n",
    "---\n",
    "5. Machine Learning - Fit/Train Model\n",
    "---"
   ]
  },
  {
   "cell_type": "code",
   "execution_count": null,
   "metadata": {},
   "outputs": [],
   "source": []
  }
 ],
 "metadata": {
  "kernelspec": {
   "display_name": "Python 3",
   "language": "python",
   "name": "python3"
  },
  "language_info": {
   "codemirror_mode": {
    "name": "ipython",
    "version": 3
   },
   "file_extension": ".py",
   "mimetype": "text/x-python",
   "name": "python",
   "nbconvert_exporter": "python",
   "pygments_lexer": "ipython3",
   "version": "3.6.8"
  }
 },
 "nbformat": 4,
 "nbformat_minor": 2
}
